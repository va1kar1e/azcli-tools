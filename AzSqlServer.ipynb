{
 "cells": [
  {
   "cell_type": "markdown",
   "metadata": {},
   "source": [
    "# Azure Sql Server"
   ]
  },
  {
   "cell_type": "markdown",
   "metadata": {},
   "source": [
    "### Input Parameter"
   ]
  },
  {
   "cell_type": "code",
   "execution_count": null,
   "metadata": {},
   "outputs": [],
   "source": [
    "$ResourceGroupName = \"\"\n",
    "$ServerName = \"\""
   ]
  },
  {
   "cell_type": "markdown",
   "metadata": {},
   "source": [
    "## Get Azure Sql Server\n",
    "\n",
    "Get-AzSqlServer\n",
    "   [-ResourceGroupName]\n",
    "   [-ServerName]"
   ]
  },
  {
   "cell_type": "code",
   "execution_count": null,
   "metadata": {},
   "outputs": [],
   "source": [
    "Get-AzSqlServer -ResourceGroupName $ResourceGroupName #-ServerName $ServerName"
   ]
  },
  {
   "cell_type": "markdown",
   "metadata": {},
   "source": [
    "## Get Azure Sql Server Advance Threat Protection Setting"
   ]
  },
  {
   "cell_type": "markdown",
   "metadata": {},
   "source": [
    "Get-AzSqlServerAdvancedThreatProtectionSetting\n",
    "   [-ServerName]\n",
    "   [-ResourceGroupName]"
   ]
  },
  {
   "cell_type": "code",
   "execution_count": null,
   "metadata": {
    "scrolled": false
   },
   "outputs": [],
   "source": [
    "Get-AzSqlServerAdvancedThreatProtectionSetting -ServerName $ServerName -ResourceGroupName $ResourceGroupName"
   ]
  },
  {
   "cell_type": "markdown",
   "metadata": {},
   "source": [
    "### Get Azure Sql Server Vulnerability Assessment Setting"
   ]
  },
  {
   "cell_type": "markdown",
   "metadata": {},
   "source": [
    "Get-AzSqlServerVulnerabilityAssessmentSetting\n",
    "   [-ServerName]\n",
    "   [-ResourceGroupName]"
   ]
  },
  {
   "cell_type": "code",
   "execution_count": null,
   "metadata": {
    "scrolled": false
   },
   "outputs": [],
   "source": [
    "Get-AzSqlServerVulnerabilityAssessmentSetting -ServerName $ServerName -ResourceGroupName $ResourceGroupName"
   ]
  },
  {
   "cell_type": "markdown",
   "metadata": {},
   "source": [
    "## Get Azure Sql Server Transparent Data Encryption Setting"
   ]
  },
  {
   "cell_type": "markdown",
   "metadata": {},
   "source": [
    "Get-AzSqlServerTransparentDataEncryptionProtector\n",
    "   [-ServerName]\n",
    "   [-ResourceGroupName]"
   ]
  },
  {
   "cell_type": "code",
   "execution_count": null,
   "metadata": {
    "scrolled": false
   },
   "outputs": [],
   "source": [
    "Get-AzSqlServerTransparentDataEncryptionProtector -ServerName $ServerName -ResourceGroupName $ResourceGroupName"
   ]
  },
  {
   "cell_type": "markdown",
   "metadata": {},
   "source": [
    "## Get Azure Sql Server Audit Setting"
   ]
  },
  {
   "cell_type": "markdown",
   "metadata": {},
   "source": [
    "Get-AzSqlServerAudit\n",
    "   [-ResourceGroupName]\n",
    "   [-ServerName]"
   ]
  },
  {
   "cell_type": "code",
   "execution_count": null,
   "metadata": {
    "scrolled": true
   },
   "outputs": [],
   "source": [
    "Get-AzSqlServerAudit -ServerName $ServerName -ResourceGroupName $ResourceGroupName"
   ]
  },
  {
   "cell_type": "markdown",
   "metadata": {},
   "source": [
    "## Get Azure Sql Server Firewall Rule Setting"
   ]
  },
  {
   "cell_type": "markdown",
   "metadata": {},
   "source": [
    "Get-AzSqlServerFirewallRule\n",
    "   [[-FirewallRuleName] <String>]\n",
    "   [-ServerName]\n",
    "   [-ResourceGroupName]"
   ]
  },
  {
   "cell_type": "code",
   "execution_count": null,
   "metadata": {},
   "outputs": [],
   "source": [
    "$RegEx4FilterName = \"AllowAllWindows*\""
   ]
  },
  {
   "cell_type": "code",
   "execution_count": null,
   "metadata": {
    "scrolled": true
   },
   "outputs": [],
   "source": [
    "Get-AzSqlServerFirewallRule -ServerName $ServerName -ResourceGroupName $ResourceGroupName -FirewallRuleName $RegEx4FilterName"
   ]
  },
  {
   "cell_type": "markdown",
   "metadata": {},
   "source": [
    "Get-AzSqlServerOutboundFirewallRule\n",
    "   [-ServerName]\n",
    "   [-ResourceGroupName]"
   ]
  },
  {
   "cell_type": "code",
   "execution_count": null,
   "metadata": {},
   "outputs": [],
   "source": [
    "Get-AzSqlServerOutboundFirewallRule -ServerName $ServerName -ResourceGroupName $ResourceGroupName"
   ]
  },
  {
   "cell_type": "markdown",
   "metadata": {},
   "source": [
    "### Get Azure Sql Server Virtual Network Rule Setting"
   ]
  },
  {
   "cell_type": "markdown",
   "metadata": {},
   "source": [
    "Get-AzSqlServerVirtualNetworkRule\n",
    "   [-VirtualNetworkRuleName <String>]\n",
    "   [-ServerName]\n",
    "   [-ResourceGroupName]"
   ]
  },
  {
   "cell_type": "code",
   "execution_count": null,
   "metadata": {
    "scrolled": true
   },
   "outputs": [],
   "source": [
    "Get-AzSqlServerVirtualNetworkRule -ServerName $ServerName -ResourceGroupName $ResourceGroupName"
   ]
  },
  {
   "cell_type": "markdown",
   "metadata": {},
   "source": [
    "## Get Azure Sql Server Key Vault Setting"
   ]
  },
  {
   "cell_type": "markdown",
   "metadata": {},
   "source": [
    "Get-AzSqlServerKeyVaultKey\n",
    "   [[-KeyId] <String>]\n",
    "   [-ServerName]\n",
    "   [-ResourceGroupName]"
   ]
  },
  {
   "cell_type": "code",
   "execution_count": null,
   "metadata": {
    "scrolled": true
   },
   "outputs": [],
   "source": [
    "Get-AzSqlServerKeyVaultKey -ServerName $ServerName -ResourceGroupName $ResourceGroupName"
   ]
  },
  {
   "cell_type": "markdown",
   "metadata": {},
   "source": [
    "## Get Azure Sql Server  Setting"
   ]
  },
  {
   "cell_type": "markdown",
   "metadata": {},
   "source": [
    "Get-AzSqlServerXXXX\n",
    "   [-ServerName]\n",
    "   [-ResourceGroupName]"
   ]
  },
  {
   "cell_type": "code",
   "execution_count": null,
   "metadata": {
    "scrolled": true
   },
   "outputs": [],
   "source": [
    "Get-AzSqlServerXXXX -ServerName $ServerName -ResourceGroupName $ResourceGroupName"
   ]
  },
  {
   "cell_type": "code",
   "execution_count": null,
   "metadata": {},
   "outputs": [],
   "source": []
  }
 ],
 "metadata": {
  "kernelspec": {
   "display_name": ".NET (PowerShell)",
   "language": "PowerShell",
   "name": ".net-powershell"
  },
  "language_info": {
   "file_extension": ".ps1",
   "mimetype": "text/x-powershell",
   "name": "PowerShell",
   "pygments_lexer": "powershell",
   "version": "7.0"
  }
 },
 "nbformat": 4,
 "nbformat_minor": 4
}
